{
 "cells": [
  {
   "cell_type": "code",
   "execution_count": 1,
   "metadata": {},
   "outputs": [],
   "source": [
    "import numpy as np\n",
    "from scipy import stats\n",
    "from bandit_models import multi_arm_bandits as mab\n",
    "from bandit_models.predef import *"
   ]
  },
  {
   "cell_type": "code",
   "execution_count": 2,
   "metadata": {},
   "outputs": [
    {
     "name": "stdout",
     "output_type": "stream",
     "text": [
      "[7.43359757e-06 3.98942280e+00]\n",
      "7.4335975736714894e-06\n",
      "3.989422804014327\n"
     ]
    }
   ],
   "source": [
    "rwd = np.array([1, 0])\n",
    "print(stats.norm.pdf(1, [2, 1], [0.2, 0.1]))\n",
    "print(stats.norm.pdf(1, 2, 0.2))\n",
    "print(stats.norm.pdf(1, 1, 0.1))"
   ]
  },
  {
   "cell_type": "code",
   "execution_count": 3,
   "metadata": {},
   "outputs": [],
   "source": [
    "# Define loss matrix\n",
    "losses = np.zeros((40, 4)) # rows are trials and columns are response options\n",
    "# Response option A\n",
    "losses[:, 0] = [0, 0, 150, 0, 300, 0, 200, 0, 250, 350] + [0, 350, 0, 250, 200, 0, 300, 150, 0, 0] + [0, 300, 0, 350, 0, 200, 250, 150, 0, 0] + [350, 200, 250, 0, 0, 0, 150, 300, 0, 0]\n",
    "# Response option B\n",
    "losses[[8, 13, 20, 31], 1] = 1250\n",
    "# Response option C\n",
    "losses[:, 2] = [0, 0, 50, 0, 50, 0, 50, 0, 50, 50] + [0, 25, 75, 0, 0, 0, 25, 75, 0, 50] + [0, 0, 0, 50, 25, 50, 0, 0, 75, 50] + [0, 0, 0, 25, 25, 0, 75, 0, 50, 75]\n",
    "# Response option D\n",
    "losses[[9, 19, 28, 34], 3] = 250\n",
    "\n",
    "# Define gain matrix\n",
    "gains = np.zeros((40, 4)) # rows are trials and columns are response options\n",
    "gains[:, 0] = 100\n",
    "gains[:, 1] = 100\n",
    "gains[:, 2] = 50\n",
    "gains[:, 3] = 50\n",
    "\n",
    "# Define bandit object (also rescale gains and losses)\n",
    "igt = mab.schedule_bandit(gains/100, losses/100)"
   ]
  },
  {
   "cell_type": "code",
   "execution_count": 4,
   "metadata": {},
   "outputs": [
    {
     "name": "stdout",
     "output_type": "stream",
     "text": [
      "              min   max  default\n",
      "hazard_rate  0.00   0.5      0.1\n",
      "inv_temp     0.01   5.0      1.0\n",
      "prior_var    0.00  10.0      1.0\n",
      "rwd_var      0.00  10.0      1.0\n",
      "-44.26592180692085\n",
      "-76.00886795518397\n"
     ]
    }
   ],
   "source": [
    "print(adams_mackay_nch_sfmx.pars)\n",
    "sim = adams_mackay_nch_sfmx.train(igt, [0.1, 3.0, 1.0, 1.0])\n",
    "print(adams_mackay_nch_sfmx.log_lik(sim['ds'], [0.1, 3.0, 1.0, 1.0]))\n",
    "print(changepoint_normal_sfmx.log_lik(sim['ds'], [0.1, 3.0, 1.0, 1.0]))"
   ]
  },
  {
   "cell_type": "code",
   "execution_count": 5,
   "metadata": {},
   "outputs": [
    {
     "name": "stdout",
     "output_type": "stream",
     "text": [
      "                 min   max  default\n",
      "exp_hazard_par  0.00   2.0      0.1\n",
      "initial_hazard  0.00   0.5      0.1\n",
      "inv_temp        0.01   5.0      1.0\n",
      "prior_var       0.00  10.0      1.0\n",
      "rwd_var         0.00  10.0      1.0\n",
      "-34.71905598653359\n"
     ]
    }
   ],
   "source": [
    "print(adams_mackay_nih_sfmx.pars)\n",
    "sim = adams_mackay_nih_sfmx.train(igt, [0.1, 0.1, 3.0, 1.0, 1.0])\n",
    "print(adams_mackay_nih_sfmx.log_lik(sim['ds'], [0.1, 0.1, 3.0, 1.0, 1.0]))"
   ]
  },
  {
   "cell_type": "code",
   "execution_count": 6,
   "metadata": {},
   "outputs": [
    {
     "name": "stdout",
     "output_type": "stream",
     "text": [
      "                 min   max  default\n",
      "exp_hazard_par  0.00   2.0      0.1\n",
      "inv_temp        0.01   5.0      1.0\n",
      "prior_var       0.00  10.0      1.0\n",
      "rwd_var         0.00  10.0      1.0\n",
      "-45.76536341723468\n"
     ]
    }
   ],
   "source": [
    "print(adams_mackay_nihs0_sfmx.pars)\n",
    "sim = adams_mackay_nihs0_sfmx.train(igt, [0.1, 3.0, 1.0, 1.0])\n",
    "print(adams_mackay_nihs0_sfmx.log_lik(sim['ds'], [0.1, 3.0, 1.0, 1.0]))"
   ]
  },
  {
   "cell_type": "code",
   "execution_count": 7,
   "metadata": {},
   "outputs": [
    {
     "name": "stdout",
     "output_type": "stream",
     "text": [
      "              min  max  default\n",
      "gain_weight  0.00  1.0      0.5\n",
      "inv_temp     0.01  5.0      1.0\n",
      "lrate        0.00  1.0      0.2\n",
      "-43.28125871406358\n"
     ]
    }
   ],
   "source": [
    "print(expectancy_valence_sfmx.pars)\n",
    "sim = expectancy_valence_sfmx.train(igt, [0.6, 3.0, 0.3])\n",
    "print(expectancy_valence_sfmx.log_lik(sim['ds'], [0.6, 3.0, 0.3]))"
   ]
  },
  {
   "cell_type": "code",
   "execution_count": 8,
   "metadata": {},
   "outputs": [
    {
     "name": "stdout",
     "output_type": "stream",
     "text": [
      "<xarray.Dataset>\n",
      "Dimensions:   (a_name: 4, t: 20)\n",
      "Coordinates:\n",
      "  * t         (t) int64 20 21 22 23 24 25 26 27 28 ... 32 33 34 35 36 37 38 39\n",
      "Dimensions without coordinates: a_name\n",
      "Data variables:\n",
      "    a         (t) int64 2 2 3 2 3 2 2 0 3 3 0 2 2 3 2 2 3 3 3 3\n",
      "    a_psb     (t, a_name) float64 1.0 1.0 1.0 1.0 1.0 ... 1.0 1.0 1.0 1.0 1.0\n",
      "    fb_given  (t) float64 1.0 1.0 1.0 1.0 1.0 1.0 ... 1.0 1.0 1.0 1.0 1.0 1.0\n",
      "    gain      (t) float64 0.5 0.5 0.5 0.5 0.5 0.5 ... 0.5 0.5 0.5 0.5 0.5 0.5\n",
      "    loss      (t) float64 0.0 0.0 0.0 0.5 0.0 0.5 ... 0.25 0.0 0.0 0.0 0.0 0.0\n",
      "    rwd       (t) float64 0.5 0.5 0.5 0.0 0.5 0.0 ... 0.25 0.5 0.5 0.5 0.5 0.5\n"
     ]
    }
   ],
   "source": [
    "t_total = int(sim['ds']['t'].max())\n",
    "t_half = int(t_total/2)\n",
    "print(sim['ds'].loc[{'t': range(t_half + 1, t_total + 1)}])"
   ]
  },
  {
   "cell_type": "code",
   "execution_count": null,
   "metadata": {},
   "outputs": [],
   "source": [
    "#fit_ev = expectancy_valence_sfmx.fit_ml(sim['ds'], global_time = 5)\n",
    "#fit_nch = adams_mackay_nch_sfmx.fit_ml(sim['ds'], global_time = 5)\n",
    "fit_nih = adams_mackay_nfpmih_sfmx.fit_ml(sim['ds'], global_time = 5)\n",
    "#print(fit_ev)\n",
    "#print(fit_nch)\n",
    "print(fit_nih)"
   ]
  },
  {
   "cell_type": "code",
   "execution_count": null,
   "metadata": {},
   "outputs": [],
   "source": []
  }
 ],
 "metadata": {
  "kernelspec": {
   "display_name": "Python 3",
   "language": "python",
   "name": "python3"
  },
  "language_info": {
   "codemirror_mode": {
    "name": "ipython",
    "version": 3
   },
   "file_extension": ".py",
   "mimetype": "text/x-python",
   "name": "python",
   "nbconvert_exporter": "python",
   "pygments_lexer": "ipython3",
   "version": "3.8.5"
  }
 },
 "nbformat": 4,
 "nbformat_minor": 4
}
